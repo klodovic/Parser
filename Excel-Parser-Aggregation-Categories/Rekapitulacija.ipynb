{
 "cells": [
  {
   "cell_type": "code",
   "execution_count": 1,
   "id": "78c5f25e-32f4-4870-b84f-4e479e12b831",
   "metadata": {},
   "outputs": [],
   "source": [
    "import pandas as pd\n",
    "import numpy as np"
   ]
  },
  {
   "cell_type": "code",
   "execution_count": 2,
   "id": "dff738be-c3af-4c1e-9f4d-6e704a1637d7",
   "metadata": {},
   "outputs": [],
   "source": [
    "path = \"./final_dwg_extract_data/IZVP.xlsx\""
   ]
  },
  {
   "cell_type": "code",
   "execution_count": 3,
   "id": "71d0eded-134a-47ab-b8bf-f8ce29799183",
   "metadata": {},
   "outputs": [],
   "source": [
    "all_sheets = pd.read_excel(path, sheet_name=None)"
   ]
  },
  {
   "cell_type": "code",
   "execution_count": null,
   "id": "83a51879-d33e-463c-97af-30e82e7c79f2",
   "metadata": {},
   "outputs": [],
   "source": []
  },
  {
   "cell_type": "code",
   "execution_count": 4,
   "id": "6ef46487-a6e7-4b0e-94ca-4e5d67f2a749",
   "metadata": {},
   "outputs": [],
   "source": [
    "df = pd.concat(all_sheets, names=[\"Sheet\", \"Row\"]).reset_index(level=0)"
   ]
  },
  {
   "cell_type": "code",
   "execution_count": 5,
   "id": "d2b9c3e5-1f3f-4b0a-bf4a-b23a81baac67",
   "metadata": {},
   "outputs": [
    {
     "name": "stdout",
     "output_type": "stream",
     "text": [
      "<class 'pandas.core.frame.DataFrame'>\n",
      "Index: 488 entries, 0 to 2\n",
      "Data columns (total 3 columns):\n",
      " #   Column    Non-Null Count  Dtype  \n",
      "---  ------    --------------  -----  \n",
      " 0   Sheet     488 non-null    object \n",
      " 1   OPIS      488 non-null    object \n",
      " 2   POVRŠINA  488 non-null    float64\n",
      "dtypes: float64(1), object(2)\n",
      "memory usage: 15.2+ KB\n"
     ]
    }
   ],
   "source": [
    "df.info()"
   ]
  },
  {
   "cell_type": "code",
   "execution_count": 22,
   "id": "fd05d7e6-4315-49ec-a70d-aac144db2822",
   "metadata": {
    "scrolled": true
   },
   "outputs": [],
   "source": [
    "# Prikaži sve redove\n",
    "pd.set_option(\"display.max_rows\", None)\n",
    "# Prikaz df\n",
    "#print(df)\n",
    "\n",
    "pd.reset_option(\"display.max_rows\")"
   ]
  },
  {
   "cell_type": "code",
   "execution_count": 7,
   "id": "bd1b024e-ed75-41e2-aa61-1c197c76d4d8",
   "metadata": {},
   "outputs": [],
   "source": [
    "#df = df.drop(columns=[\"Sheet\"])\n",
    "##df[[\"OPIS\", \"POVRŠINA\"]]\n",
    "#df"
   ]
  },
  {
   "cell_type": "code",
   "execution_count": 8,
   "id": "e75e71ed-2469-40fb-aad6-0c8f7f9efde6",
   "metadata": {},
   "outputs": [],
   "source": [
    "df[\"OPIS\"] = df[\"OPIS\"].str.split(\" \", n=1).str[1]\n"
   ]
  },
  {
   "cell_type": "code",
   "execution_count": null,
   "id": "1bd471f7-876c-455a-bd0d-ccac08c5d2b0",
   "metadata": {},
   "outputs": [],
   "source": []
  },
  {
   "cell_type": "code",
   "execution_count": null,
   "id": "beae607b-ea22-4b4e-af93-fb9cbd589b48",
   "metadata": {},
   "outputs": [],
   "source": []
  },
  {
   "cell_type": "code",
   "execution_count": 9,
   "id": "9cfb3d81-3336-4b6e-8c7f-009053ebce9f",
   "metadata": {},
   "outputs": [
    {
     "name": "stdout",
     "output_type": "stream",
     "text": [
      "<class 'pandas.core.frame.DataFrame'>\n",
      "Index: 488 entries, 0 to 2\n",
      "Data columns (total 3 columns):\n",
      " #   Column    Non-Null Count  Dtype  \n",
      "---  ------    --------------  -----  \n",
      " 0   Sheet     488 non-null    object \n",
      " 1   OPIS      389 non-null    object \n",
      " 2   POVRŠINA  488 non-null    float64\n",
      "dtypes: float64(1), object(2)\n",
      "memory usage: 15.2+ KB\n"
     ]
    }
   ],
   "source": [
    "df.info()"
   ]
  },
  {
   "cell_type": "code",
   "execution_count": null,
   "id": "c98e2e7c-91e3-4b03-b38f-5c5ef6ed6caf",
   "metadata": {},
   "outputs": [],
   "source": []
  },
  {
   "cell_type": "code",
   "execution_count": null,
   "id": "9e473914-64e4-43ce-b800-f0388fa995d0",
   "metadata": {},
   "outputs": [],
   "source": []
  },
  {
   "cell_type": "code",
   "execution_count": 10,
   "id": "ac4c4c6f-880f-4033-b751-b0e56d68e059",
   "metadata": {},
   "outputs": [],
   "source": [
    "df[\"OPIS\"] = df[\"OPIS\"].replace(r'^\\s*$', \"BEZ NAZIVA\", regex=True).fillna(\"BEZ NAZIVA\")"
   ]
  },
  {
   "cell_type": "code",
   "execution_count": 11,
   "id": "5bda63a5-d564-4c11-89e5-6cd9334033fe",
   "metadata": {},
   "outputs": [],
   "source": [
    "mapiranje = {\n",
    "    \"LAB A\": \"LABORATORIJ\",\n",
    "    \"LAB B\": \"LABORATORIJ\",\n",
    "    \"LAB G\": \"LABORATORIJ\",\n",
    "    \"LAB H\": \"LABORATORIJ\",\n",
    "    \"LAB J\": \"LABORATORIJ\",\n",
    "    \"LAB K\": \"LABORATORIJ\",\n",
    "    \"LAB. A\": \"LABORATORIJ\",\n",
    "    \"KUHINJA\": \"ČAJNA KUHINJA\",\n",
    "    \"SPREMAÈICE\": \"SPREMAČICE\",\n",
    "    \"PREDAVAONA\": \"PREDAVAONICA\",\n",
    "    \"PREDAVAONICA E\": \"PREDAVAONICA\",\n",
    "}\n",
    "df[\"OPIS\"] = df[\"OPIS\"].replace(mapiranje)"
   ]
  },
  {
   "cell_type": "code",
   "execution_count": 12,
   "id": "edf8dac6-cc6f-4220-8b2c-f8db60e31dca",
   "metadata": {},
   "outputs": [],
   "source": [
    "df[\"OPIS\"] = df[\"OPIS\"].astype(str).str.strip()"
   ]
  },
  {
   "cell_type": "code",
   "execution_count": 21,
   "id": "9b124c47-0c45-4403-b425-0be8f9b64c09",
   "metadata": {
    "scrolled": true
   },
   "outputs": [],
   "source": [
    "# Prikaži sve redove\n",
    "pd.set_option(\"display.max_rows\", None)\n",
    "# Prikaz df\n",
    "#print(df)\n",
    "\n",
    "pd.reset_option(\"display.max_rows\")"
   ]
  },
  {
   "cell_type": "code",
   "execution_count": null,
   "id": "793c17f6-446c-4f4a-8017-cc15c25c2327",
   "metadata": {},
   "outputs": [],
   "source": []
  },
  {
   "cell_type": "code",
   "execution_count": 20,
   "id": "7fa0b0cc-fb10-42e6-91cd-51c6e8eaefe8",
   "metadata": {},
   "outputs": [],
   "source": [
    "df_grouped = df.groupby(\"OPIS\", as_index=False)[\"POVRŠINA\"].sum()\n",
    "#df_grouped"
   ]
  },
  {
   "cell_type": "code",
   "execution_count": null,
   "id": "ec2ae828-7da2-4092-a763-26695aba9e63",
   "metadata": {},
   "outputs": [],
   "source": []
  },
  {
   "cell_type": "code",
   "execution_count": 18,
   "id": "1a1abb4f-9c38-4920-bb14-5b951fe85f10",
   "metadata": {},
   "outputs": [],
   "source": [
    "excel_file = path"
   ]
  },
  {
   "cell_type": "code",
   "execution_count": 19,
   "id": "63720fc5-261e-4405-81d7-a285d8e9b4d3",
   "metadata": {},
   "outputs": [],
   "source": [
    "with pd.ExcelWriter(excel_file, mode=\"a\", engine=\"openpyxl\", if_sheet_exists=\"replace\") as writer:\n",
    "    df_grouped.to_excel(writer, sheet_name=\"Rekapitulacija\", index=False)"
   ]
  },
  {
   "cell_type": "code",
   "execution_count": null,
   "id": "ae3d21e9-fd9d-4a93-b5c3-6a8b694ba76a",
   "metadata": {},
   "outputs": [],
   "source": []
  }
 ],
 "metadata": {
  "kernelspec": {
   "display_name": "Python [conda env:base] *",
   "language": "python",
   "name": "conda-base-py"
  },
  "language_info": {
   "codemirror_mode": {
    "name": "ipython",
    "version": 3
   },
   "file_extension": ".py",
   "mimetype": "text/x-python",
   "name": "python",
   "nbconvert_exporter": "python",
   "pygments_lexer": "ipython3",
   "version": "3.13.5"
  }
 },
 "nbformat": 4,
 "nbformat_minor": 5
}
