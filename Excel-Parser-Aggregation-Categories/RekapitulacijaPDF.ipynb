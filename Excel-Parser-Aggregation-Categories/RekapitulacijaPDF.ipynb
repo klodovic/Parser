{
 "cells": [
  {
   "cell_type": "code",
   "execution_count": 1,
   "id": "edcb6a00-c650-4e77-8443-0c7cb21b3e1a",
   "metadata": {},
   "outputs": [],
   "source": [
    "import pandas as pd\n",
    "import numpy as np"
   ]
  },
  {
   "cell_type": "code",
   "execution_count": 2,
   "id": "889bc80d-cffe-4e67-91b2-917e9ef4672b",
   "metadata": {},
   "outputs": [],
   "source": [
    "path = \"./final_dwg_extract_data/SJEVER.xlsx\""
   ]
  },
  {
   "cell_type": "code",
   "execution_count": 3,
   "id": "e795e0c4-69e5-472b-9725-e5d8c0cc44e8",
   "metadata": {},
   "outputs": [],
   "source": [
    "all_sheets = pd.read_excel(path, sheet_name=None)"
   ]
  },
  {
   "cell_type": "code",
   "execution_count": 4,
   "id": "ea5d97ca-4988-4525-afcb-3fa87f771678",
   "metadata": {},
   "outputs": [],
   "source": [
    "df = pd.concat(all_sheets, names=[\"Sheet\", \"Row\"]).reset_index(level=0)"
   ]
  },
  {
   "cell_type": "code",
   "execution_count": 5,
   "id": "eefc7f2a-3b28-4592-94b0-9c2d70422a1d",
   "metadata": {},
   "outputs": [
    {
     "name": "stdout",
     "output_type": "stream",
     "text": [
      "<class 'pandas.core.frame.DataFrame'>\n",
      "Index: 351 entries, 0 to 28\n",
      "Data columns (total 3 columns):\n",
      " #   Column    Non-Null Count  Dtype  \n",
      "---  ------    --------------  -----  \n",
      " 0   Sheet     351 non-null    object \n",
      " 1   OPIS      351 non-null    object \n",
      " 2   POVRŠINA  348 non-null    float64\n",
      "dtypes: float64(1), object(2)\n",
      "memory usage: 11.0+ KB\n"
     ]
    }
   ],
   "source": [
    "df.info()"
   ]
  },
  {
   "cell_type": "code",
   "execution_count": null,
   "id": "a297fee3-145d-48c9-bb60-f8dc75718df4",
   "metadata": {},
   "outputs": [],
   "source": []
  },
  {
   "cell_type": "code",
   "execution_count": null,
   "id": "00ae1152-d02d-486d-8652-dbd226ca1e95",
   "metadata": {},
   "outputs": [],
   "source": []
  },
  {
   "cell_type": "code",
   "execution_count": null,
   "id": "0d65838d-87d7-4635-9441-738f9507793a",
   "metadata": {},
   "outputs": [],
   "source": []
  },
  {
   "cell_type": "code",
   "execution_count": 6,
   "id": "c8a4a2f5-c1dd-4029-8f53-834b418b0a1d",
   "metadata": {},
   "outputs": [],
   "source": [
    "df[\"OPIS\"] = df[\"OPIS\"].str.replace(r'^\\d+(\\.\\d+)*\\.?\\s*', '', regex=True)"
   ]
  },
  {
   "cell_type": "code",
   "execution_count": 7,
   "id": "36e9b357-ab43-4778-bc18-a1ae39cf3198",
   "metadata": {},
   "outputs": [],
   "source": [
    "df = df.drop(columns=[\"Sheet\"])"
   ]
  },
  {
   "cell_type": "code",
   "execution_count": 8,
   "id": "55d328e1-6f39-4333-9077-58885a24fa8a",
   "metadata": {},
   "outputs": [],
   "source": [
    "df[\"POVRŠINA\"] = df[\"POVRŠINA\"].fillna(0)"
   ]
  },
  {
   "cell_type": "code",
   "execution_count": 16,
   "id": "9638a1d8-50f4-4097-95a7-13bb67da4fe9",
   "metadata": {
    "scrolled": true
   },
   "outputs": [],
   "source": [
    "# Prikaži sve redove\n",
    "pd.set_option(\"display.max_rows\", None)\n",
    "# Prikaz df\n",
    "#print(df)\n",
    "\n",
    "pd.reset_option(\"display.max_rows\")"
   ]
  },
  {
   "cell_type": "code",
   "execution_count": null,
   "id": "d2668475-e3d6-4c7c-8ca1-8044db16b2a2",
   "metadata": {},
   "outputs": [],
   "source": []
  },
  {
   "cell_type": "code",
   "execution_count": 10,
   "id": "9602c125-6422-4f5f-9efa-084c9c782cfa",
   "metadata": {},
   "outputs": [],
   "source": [
    "df[\"OPIS\"] = df[\"OPIS\"].astype(str).str.strip()\n",
    "mapiranje = {\n",
    "    \"LAB A\": \"LABORATORIJ\",\n",
    "    \"LAB B\": \"LABORATORIJ\",\n",
    "    \"LAB G\": \"LABORATORIJ\",\n",
    "    \"LAB H\": \"LABORATORIJ\",\n",
    "    \"LAB J\": \"LABORATORIJ\",\n",
    "    \"LAB K\": \"LABORATORIJ\",\n",
    "    \"LAB. A\": \"LABORATORIJ\",\n",
    "    \"Laboratorij epoxy\": \"Laboratorij\",\n",
    "    \"KUHINJA\": \"ČAJNA KUHINJA\",\n",
    "    \"SPREMAÈICE\": \"SPREMAČICE\",\n",
    "    \"PREDAVAONA\": \"PREDAVAONICA\",\n",
    "    \"PREDAVAONICA E\": \"PREDAVAONICA\",\n",
    "    \"Hodnik 2\": \"Hodnik\",\n",
    "    \"HHodnik epoxy\": \"Hodnik\",\n",
    "    \"Hodnik epoxy\": \"Hodnik\",\n",
    "    \"Elektro\": \"Elektro soba\",\n",
    "    \"Elektro soba epoxy\": \"Elektro soba\",\n",
    "    \"Lift D1\": \"Lift\",\n",
    "    \"Pom.Prost.\": \"Pomoćni prostor\",\n",
    "    \"Pomoć.prostor.\": \"Pomoćni prostor\",\n",
    "    \"PomProst\": \"Pomoćni prostor\",\n",
    "    \"Pomoćna tehnička prostorija epoxy\": \"Pomoćni prostor\",\n",
    "    \"Hodnik terazzo\": \"Hodnik terazzo\",\n",
    "    \"Hodnik terrazo\": \"Hodnik terazzo\",\n",
    "    \"Kabinet / učionica\": \"Kabinet\",\n",
    "    \"Kabinet parket\": \"Kabinet\",\n",
    "    \"Predavaona parket\": \"Predavaona\",\n",
    "    \"Radiona\": \"Radionica\",\n",
    "    \"Sanitarije m.\": \"Sanitarije\",\n",
    "    \"Sanitarije ž.\": \"Sanitarije\",\n",
    "    \"Muški wc ker. pločice\": \"Sanitarije\",\n",
    "    \"Stubište A\": \"Stubište\",\n",
    "    \"Stubište B1\": \"Stubište\",\n",
    "    \"Stubište B2\": \"Stubište\",\n",
    "    \"Stubište B3\": \"Stubište\",\n",
    "    \"Stubište terrazo\": \"Stubište\",\n",
    "    \"Tamna komora za evaluaciju epoxy\": \"Tamna komora\",\n",
    "    \"Tamna komora za kem. obradu filmova\": \"Tamna komora\",\n",
    "    \"Ured 3\": \"Ured\",\n",
    "    \"Ured 4\": \"Ured\",\n",
    "    \"Ured parket\": \"Ured\",\n",
    "    \"Učionica parket\": \"Učionica\",\n",
    "    \"WC ker. Pločice\": \"WC\",\n",
    "    \"WC ker. ploč.\": \"WC\",\n",
    "    \"WC m.\": \"WC\",\n",
    "    \"wc m\": \"WC\",\n",
    "    \"WC m. ker. pločice\": \"WC\",\n",
    "    \"WC muški\": \"WC\",\n",
    "    \"WC ž.\": \"WC\",\n",
    "    \"WC ž. ker. pločice\": \"WC\",\n",
    "    \"WC ženski\": \"WC\",\n",
    "   \"WC ženski\": \"WC\",\n",
    "    \"WC ženski\": \"WC\",\n",
    "    \"WC inv. ker. pločice\": \"WC inv.\",\n",
    "    \"Inv. wc\": \"WC inv.\",\n",
    "    \"WC.inv\": \"WC inv.\",\n",
    "    \"Strojarstvo epoxy\": \"Strojarnica epoxy\",\n",
    "     \"sprem.\": \"Spremište\",\n",
    "    \"Hodnik.\": \"Hodnik\",\n",
    "     \"Odlaganje\": \"Spremište\",\n",
    "    \"terrazo\\n2.55 terrazo\": \"terrazo\",\n",
    "    \"Č.kuh. ker.pločice\": \"Čajna kuhinja\",\n",
    "    \"Ženski wc ker. pločice\": \"WC\",\n",
    "    \"Č.Kuhinja\": \"Čajna kuhinja\",\n",
    "    \"ž wc\": \"WC\",\n",
    "    \"Ženski  wc ker. pločice\": \"WC\",\n",
    "}\n",
    "df[\"OPIS\"] = df[\"OPIS\"].replace(mapiranje)\n",
    "\n"
   ]
  },
  {
   "cell_type": "code",
   "execution_count": null,
   "id": "bdcefc9b-ae09-4731-81a3-399e254f7bb3",
   "metadata": {},
   "outputs": [],
   "source": []
  },
  {
   "cell_type": "code",
   "execution_count": null,
   "id": "0fec0a3b-abdd-4845-9698-b430ceefd4e7",
   "metadata": {},
   "outputs": [],
   "source": []
  },
  {
   "cell_type": "code",
   "execution_count": 17,
   "id": "b411e75d-081b-4d25-a1a8-24efff0c3290",
   "metadata": {},
   "outputs": [],
   "source": [
    "df_grouped = df.groupby(\"OPIS\", as_index=False)[\"POVRŠINA\"].sum()\n",
    "df_grouped[\"OPIS\"] = df_grouped[\"OPIS\"].str.upper()\n",
    "#df_grouped.head(48)"
   ]
  },
  {
   "cell_type": "code",
   "execution_count": 14,
   "id": "392fd80e-fbae-45e9-a7dc-f49d6b51de9f",
   "metadata": {},
   "outputs": [],
   "source": [
    "excel_file = path"
   ]
  },
  {
   "cell_type": "code",
   "execution_count": 15,
   "id": "9e9efac5-5de5-480b-a4e4-3c1d771c55ee",
   "metadata": {},
   "outputs": [],
   "source": [
    "with pd.ExcelWriter(excel_file, mode=\"a\", engine=\"openpyxl\", if_sheet_exists=\"replace\") as writer:\n",
    "    df_grouped.to_excel(writer, sheet_name=\"Rekapitulacija\", index=False)"
   ]
  },
  {
   "cell_type": "code",
   "execution_count": null,
   "id": "a4499a81-b632-4dde-b6e0-86f7a6a91a47",
   "metadata": {},
   "outputs": [],
   "source": []
  }
 ],
 "metadata": {
  "kernelspec": {
   "display_name": "Python [conda env:base] *",
   "language": "python",
   "name": "conda-base-py"
  },
  "language_info": {
   "codemirror_mode": {
    "name": "ipython",
    "version": 3
   },
   "file_extension": ".py",
   "mimetype": "text/x-python",
   "name": "python",
   "nbconvert_exporter": "python",
   "pygments_lexer": "ipython3",
   "version": "3.13.5"
  }
 },
 "nbformat": 4,
 "nbformat_minor": 5
}
