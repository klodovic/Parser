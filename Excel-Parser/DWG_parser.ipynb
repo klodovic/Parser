{
 "cells": [
  {
   "cell_type": "code",
   "execution_count": 1,
   "id": "5ba79774-69b8-48af-9003-66154d449237",
   "metadata": {},
   "outputs": [],
   "source": [
    "import pandas as pd\n",
    "import os\n",
    "import re"
   ]
  },
  {
   "cell_type": "code",
   "execution_count": 28,
   "id": "4a3e5d8d-e82e-48c2-b490-eaee2fa59afe",
   "metadata": {},
   "outputs": [],
   "source": []
  },
  {
   "cell_type": "code",
   "execution_count": 2,
   "id": "bf70d986-7f1e-48c3-aa0f-bf2876cbb43f",
   "metadata": {},
   "outputs": [],
   "source": [
    "def extract_float(val):\n",
    "    if isinstance(val, str):\n",
    "        val = val.replace(',', '.')\n",
    "        match = re.search(r'\\d+\\.\\d+', val)\n",
    "        if match:\n",
    "            return float(match.group())\n",
    "    return None"
   ]
  },
  {
   "cell_type": "code",
   "execution_count": null,
   "id": "ac6513e5-f41f-4655-8214-6ab1c81bbfb2",
   "metadata": {},
   "outputs": [],
   "source": []
  },
  {
   "cell_type": "code",
   "execution_count": 267,
   "id": "f5d0bd7e-302f-47e0-8575-459786df3858",
   "metadata": {},
   "outputs": [],
   "source": [
    "file_path = \"./data/12_E10_10kat.xlsx\""
   ]
  },
  {
   "cell_type": "code",
   "execution_count": 268,
   "id": "a4041db4-8d2d-4ad0-a079-903274f6b3f2",
   "metadata": {},
   "outputs": [],
   "source": [
    "file = pd.read_excel(file_path, dtype=str)"
   ]
  },
  {
   "cell_type": "code",
   "execution_count": 269,
   "id": "40f3a1ed-b128-44fe-ba81-a961a9433b2e",
   "metadata": {},
   "outputs": [
    {
     "data": {
      "text/plain": [
       "24"
      ]
     },
     "execution_count": 269,
     "metadata": {},
     "output_type": "execute_result"
    }
   ],
   "source": [
    "len(file)"
   ]
  },
  {
   "cell_type": "code",
   "execution_count": null,
   "id": "fc02fc4b-c3ab-4472-85f5-5fd0f1744b2e",
   "metadata": {},
   "outputs": [],
   "source": []
  },
  {
   "cell_type": "code",
   "execution_count": 270,
   "id": "8ae4937a-658e-4b9f-8f78-b4aeaafefa8d",
   "metadata": {},
   "outputs": [
    {
     "name": "stdout",
     "output_type": "stream",
     "text": [
      "<class 'pandas.core.frame.DataFrame'>\n",
      "RangeIndex: 24 entries, 0 to 23\n",
      "Data columns (total 2 columns):\n",
      " #   Column    Non-Null Count  Dtype \n",
      "---  ------    --------------  ----- \n",
      " 0   OPIS      24 non-null     object\n",
      " 1   POVRŠINA  24 non-null     object\n",
      "dtypes: object(2)\n",
      "memory usage: 516.0+ bytes\n"
     ]
    }
   ],
   "source": [
    "file.info()"
   ]
  },
  {
   "cell_type": "code",
   "execution_count": 1,
   "id": "890de482-b1ea-4bd9-8f1d-20aa66abcc5d",
   "metadata": {
    "scrolled": true
   },
   "outputs": [],
   "source": [
    "#file.head(60)"
   ]
  },
  {
   "cell_type": "code",
   "execution_count": 272,
   "id": "1341d857-7388-4f97-8129-1bbf71314260",
   "metadata": {},
   "outputs": [],
   "source": [
    "file['POVRŠINA'] = file['POVRŠINA'].str.replace(',', '.', regex=False)"
   ]
  },
  {
   "cell_type": "code",
   "execution_count": null,
   "id": "3978468f-1bd1-4ea5-8e2f-6aa024e95842",
   "metadata": {},
   "outputs": [],
   "source": []
  },
  {
   "cell_type": "code",
   "execution_count": 2,
   "id": "db659297-d0eb-4ec3-9625-b079ceb3287b",
   "metadata": {},
   "outputs": [],
   "source": [
    "#file.head(60)"
   ]
  },
  {
   "cell_type": "code",
   "execution_count": null,
   "id": "2594eace-8dc0-486c-9288-9e4236d99fcc",
   "metadata": {},
   "outputs": [],
   "source": []
  },
  {
   "cell_type": "code",
   "execution_count": 274,
   "id": "4d7a44cd-4a18-4af4-b0f6-5a682e2e6347",
   "metadata": {},
   "outputs": [],
   "source": [
    "file['POVRŠINA'] = (\n",
    "    file['POVRŠINA']\n",
    "    .str.replace(',', '.', regex=False)       # već radi\n",
    "    .str.replace('P=', '', regex=False)       # makni \"P=\"\n",
    "    .str.replace('m2', '', regex=False)       # makni \"m2\"\n",
    "    .str.strip()                              # makni razmake prije/poslije\n",
    "    .astype(float)                            # pretvori u broj\n",
    ")"
   ]
  },
  {
   "cell_type": "code",
   "execution_count": 3,
   "id": "e432f3c7-c21f-4fa6-b09e-598909548360",
   "metadata": {},
   "outputs": [],
   "source": [
    "#file.head(60)"
   ]
  },
  {
   "cell_type": "code",
   "execution_count": 276,
   "id": "345833b7-50c1-4d4d-ada2-ede55fa01021",
   "metadata": {},
   "outputs": [],
   "source": [
    "sheet_name = os.path.splitext(os.path.basename(file_path))[0]"
   ]
  },
  {
   "cell_type": "code",
   "execution_count": 277,
   "id": "571420ec-0b78-40cb-a708-6a2c9c46405c",
   "metadata": {},
   "outputs": [
    {
     "data": {
      "text/plain": [
       "'12_E10_10kat'"
      ]
     },
     "execution_count": 277,
     "metadata": {},
     "output_type": "execute_result"
    }
   ],
   "source": [
    "sheet_name"
   ]
  },
  {
   "cell_type": "code",
   "execution_count": null,
   "id": "29e00708-2401-42c1-bc4e-24e7a1212fb4",
   "metadata": {},
   "outputs": [],
   "source": []
  },
  {
   "cell_type": "code",
   "execution_count": 278,
   "id": "0072d855-aee0-4e9e-b3f3-946e87ac3d6c",
   "metadata": {},
   "outputs": [],
   "source": [
    "with pd.ExcelWriter(\"IZVP.xlsx\", engine=\"openpyxl\", mode='a', if_sheet_exists='new') as writer:\n",
    "    file.to_excel(writer, sheet_name=sheet_name, index=False)"
   ]
  },
  {
   "cell_type": "code",
   "execution_count": null,
   "id": "fe6f00a2-c120-4ed7-becc-6d39fedba3ec",
   "metadata": {},
   "outputs": [],
   "source": []
  },
  {
   "cell_type": "code",
   "execution_count": null,
   "id": "8e31302b-d6c1-4cf3-9d5e-bf50a945ea29",
   "metadata": {},
   "outputs": [],
   "source": []
  },
  {
   "cell_type": "code",
   "execution_count": 337,
   "id": "00fa8af8-ffd7-482a-86be-2007ad8cc73b",
   "metadata": {},
   "outputs": [],
   "source": [
    "txt = \"./data/B1 B2 B3 D prvi kat  (77x86cm).txt\""
   ]
  },
  {
   "cell_type": "code",
   "execution_count": 338,
   "id": "9fe84422-5cc3-4a3b-9fbb-2868de7a5358",
   "metadata": {},
   "outputs": [],
   "source": [
    "data = []"
   ]
  },
  {
   "cell_type": "code",
   "execution_count": 339,
   "id": "18b0dfc9-6694-4ca4-8e64-0c5465a51d03",
   "metadata": {},
   "outputs": [],
   "source": [
    "with open(txt, \"r\", encoding=\"utf-8\") as f:\n",
    "    lines = f.read().splitlines()"
   ]
  },
  {
   "cell_type": "code",
   "execution_count": 4,
   "id": "764ee329-5afb-4a07-a9e3-bdc3a49c00b1",
   "metadata": {},
   "outputs": [],
   "source": [
    "#lines"
   ]
  },
  {
   "cell_type": "code",
   "execution_count": null,
   "id": "ca046a3d-8fe6-44db-982b-4bce2edfaeca",
   "metadata": {},
   "outputs": [],
   "source": []
  },
  {
   "cell_type": "code",
   "execution_count": 341,
   "id": "581b8062-dafe-4e57-8aac-5e30cfc3dc2f",
   "metadata": {},
   "outputs": [
    {
     "ename": "ValueError",
     "evalue": "could not convert string to float: '####'",
     "output_type": "error",
     "traceback": [
      "\u001b[1;31m---------------------------------------------------------------------------\u001b[0m",
      "\u001b[1;31mValueError\u001b[0m                                Traceback (most recent call last)",
      "Cell \u001b[1;32mIn[341], line 4\u001b[0m\n\u001b[0;32m      2\u001b[0m opis \u001b[38;5;241m=\u001b[39m \u001b[38;5;124mf\u001b[39m\u001b[38;5;124m\"\u001b[39m\u001b[38;5;132;01m{\u001b[39;00mlines[i]\u001b[38;5;132;01m}\u001b[39;00m\u001b[38;5;124m \u001b[39m\u001b[38;5;132;01m{\u001b[39;00mlines[i\u001b[38;5;241m+\u001b[39m\u001b[38;5;241m1\u001b[39m]\u001b[38;5;132;01m}\u001b[39;00m\u001b[38;5;124m\"\u001b[39m\u001b[38;5;241m.\u001b[39mstrip()\n\u001b[0;32m      3\u001b[0m povrsina \u001b[38;5;241m=\u001b[39m lines[i\u001b[38;5;241m+\u001b[39m\u001b[38;5;241m2\u001b[39m]\u001b[38;5;241m.\u001b[39mreplace(\u001b[38;5;124m\"\u001b[39m\u001b[38;5;124mP=\u001b[39m\u001b[38;5;124m\"\u001b[39m, \u001b[38;5;124m\"\u001b[39m\u001b[38;5;124m\"\u001b[39m)\u001b[38;5;241m.\u001b[39mreplace(\u001b[38;5;124m\"\u001b[39m\u001b[38;5;124mm²\u001b[39m\u001b[38;5;124m\"\u001b[39m, \u001b[38;5;124m\"\u001b[39m\u001b[38;5;124m\"\u001b[39m)\u001b[38;5;241m.\u001b[39mreplace(\u001b[38;5;124m\"\u001b[39m\u001b[38;5;124mm2\u001b[39m\u001b[38;5;124m\"\u001b[39m, \u001b[38;5;124m\"\u001b[39m\u001b[38;5;124m\"\u001b[39m)\u001b[38;5;241m.\u001b[39mreplace(\u001b[38;5;124m\"\u001b[39m\u001b[38;5;124m,\u001b[39m\u001b[38;5;124m\"\u001b[39m, \u001b[38;5;124m\"\u001b[39m\u001b[38;5;124m.\u001b[39m\u001b[38;5;124m\"\u001b[39m)\u001b[38;5;241m.\u001b[39mstrip()\n\u001b[1;32m----> 4\u001b[0m data\u001b[38;5;241m.\u001b[39mappend([opis, \u001b[38;5;28mfloat\u001b[39m(povrsina)])\n",
      "\u001b[1;31mValueError\u001b[0m: could not convert string to float: '####'"
     ]
    }
   ],
   "source": [
    "for i in range(0, len(lines), 3):\n",
    "    opis = f\"{lines[i]} {lines[i+1]}\".strip()\n",
    "    povrsina = lines[i+2].replace(\"P=\", \"\").replace(\"m²\", \"\").replace(\"m2\", \"\").replace(\",\", \".\").strip()\n",
    "    data.append([opis, float(povrsina)])"
   ]
  },
  {
   "cell_type": "code",
   "execution_count": 310,
   "id": "71c61d44-b2a5-4208-b564-b29e6fc47b97",
   "metadata": {},
   "outputs": [],
   "source": [
    "df = pd.DataFrame(data, columns=[\"OPIS\", \"POVRŠINA\"])\n",
    "df.to_excel(\"podaci.xlsx\", index=False)"
   ]
  },
  {
   "cell_type": "code",
   "execution_count": null,
   "id": "6643cc67-27f8-4c33-9171-b532f239ec11",
   "metadata": {},
   "outputs": [],
   "source": []
  }
 ],
 "metadata": {
  "kernelspec": {
   "display_name": "Python [conda env:base] *",
   "language": "python",
   "name": "conda-base-py"
  },
  "language_info": {
   "codemirror_mode": {
    "name": "ipython",
    "version": 3
   },
   "file_extension": ".py",
   "mimetype": "text/x-python",
   "name": "python",
   "nbconvert_exporter": "python",
   "pygments_lexer": "ipython3",
   "version": "3.13.5"
  }
 },
 "nbformat": 4,
 "nbformat_minor": 5
}
